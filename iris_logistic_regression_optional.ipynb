{
 "cells": [
  {
   "cell_type": "markdown",
   "metadata": {
    "id": "RcThZ5VUgaPo"
   },
   "source": [
    "## Iris Logistic Regression"
   ]
  },
  {
   "cell_type": "markdown",
   "metadata": {},
   "source": [
    "The objective is to create a classifier that will predict whether an iris belongs to the ‘Iris-setosa' class or not. This means that we have two classes: ‘Iris-setosa' and not-‘Iris-setosa' (which includes 'Iris-versicolor' and 'Iris-virginica')."
   ]
  },
  {
   "cell_type": "code",
   "execution_count": 9,
   "metadata": {
    "colab": {
     "base_uri": "https://localhost:8080/",
     "height": 195
    },
    "id": "XWMypTRbgaPw",
    "outputId": "00f48efe-278a-45e5-9273-2b0381f5ce41"
   },
   "outputs": [],
   "source": [
    "# importing libraries\n",
    "import pandas as pd\n",
    "from sklearn.model_selection import train_test_split\n",
    "from sklearn.linear_model import LogisticRegression\n",
    "from sklearn.metrics import confusion_matrix\n",
    "from sklearn import preprocessing\n",
    "from sklearn.metrics import accuracy_score, precision_score, recall_score"
   ]
  },
  {
   "cell_type": "markdown",
   "metadata": {},
   "source": [
    "Read the Iris dataset "
   ]
  },
  {
   "cell_type": "code",
   "execution_count": 10,
   "metadata": {},
   "outputs": [
    {
     "data": {
      "text/html": [
       "<div>\n",
       "<style scoped>\n",
       "    .dataframe tbody tr th:only-of-type {\n",
       "        vertical-align: middle;\n",
       "    }\n",
       "\n",
       "    .dataframe tbody tr th {\n",
       "        vertical-align: top;\n",
       "    }\n",
       "\n",
       "    .dataframe thead th {\n",
       "        text-align: right;\n",
       "    }\n",
       "</style>\n",
       "<table border=\"1\" class=\"dataframe\">\n",
       "  <thead>\n",
       "    <tr style=\"text-align: right;\">\n",
       "      <th></th>\n",
       "      <th>Id</th>\n",
       "      <th>SepalLengthCm</th>\n",
       "      <th>SepalWidthCm</th>\n",
       "      <th>PetalLengthCm</th>\n",
       "      <th>PetalWidthCm</th>\n",
       "      <th>Species</th>\n",
       "    </tr>\n",
       "  </thead>\n",
       "  <tbody>\n",
       "    <tr>\n",
       "      <th>0</th>\n",
       "      <td>1</td>\n",
       "      <td>5.1</td>\n",
       "      <td>3.5</td>\n",
       "      <td>1.4</td>\n",
       "      <td>0.2</td>\n",
       "      <td>Iris-setosa</td>\n",
       "    </tr>\n",
       "    <tr>\n",
       "      <th>1</th>\n",
       "      <td>2</td>\n",
       "      <td>4.9</td>\n",
       "      <td>3.0</td>\n",
       "      <td>1.4</td>\n",
       "      <td>0.2</td>\n",
       "      <td>Iris-setosa</td>\n",
       "    </tr>\n",
       "    <tr>\n",
       "      <th>2</th>\n",
       "      <td>3</td>\n",
       "      <td>4.7</td>\n",
       "      <td>3.2</td>\n",
       "      <td>1.3</td>\n",
       "      <td>0.2</td>\n",
       "      <td>Iris-setosa</td>\n",
       "    </tr>\n",
       "    <tr>\n",
       "      <th>3</th>\n",
       "      <td>4</td>\n",
       "      <td>4.6</td>\n",
       "      <td>3.1</td>\n",
       "      <td>1.5</td>\n",
       "      <td>0.2</td>\n",
       "      <td>Iris-setosa</td>\n",
       "    </tr>\n",
       "    <tr>\n",
       "      <th>4</th>\n",
       "      <td>5</td>\n",
       "      <td>5.0</td>\n",
       "      <td>3.6</td>\n",
       "      <td>1.4</td>\n",
       "      <td>0.2</td>\n",
       "      <td>Iris-setosa</td>\n",
       "    </tr>\n",
       "  </tbody>\n",
       "</table>\n",
       "</div>"
      ],
      "text/plain": [
       "   Id  SepalLengthCm  SepalWidthCm  PetalLengthCm  PetalWidthCm      Species\n",
       "0   1            5.1           3.5            1.4           0.2  Iris-setosa\n",
       "1   2            4.9           3.0            1.4           0.2  Iris-setosa\n",
       "2   3            4.7           3.2            1.3           0.2  Iris-setosa\n",
       "3   4            4.6           3.1            1.5           0.2  Iris-setosa\n",
       "4   5            5.0           3.6            1.4           0.2  Iris-setosa"
      ]
     },
     "execution_count": 10,
     "metadata": {},
     "output_type": "execute_result"
    }
   ],
   "source": [
    "\n",
    "# Read in the data set\n",
    "# Import, read and display first 5 columns of the dataset\n",
    "iris = pd.read_csv(\"Iris.csv\")\n",
    "iris.head()"
   ]
  },
  {
   "cell_type": "markdown",
   "metadata": {},
   "source": [
    "Identify independent variables x."
   ]
  },
  {
   "cell_type": "code",
   "execution_count": 11,
   "metadata": {
    "id": "-yYXhO8LgaRV"
   },
   "outputs": [],
   "source": [
    "# Assign columns with independent variables to x\n",
    "X = iris.iloc[:,[1,2,3,4]].values\n",
    "# Reshape x into\n",
    "X = X.reshape(-1, 4)\n",
    "# scale the data\n",
    "X = preprocessing.scale(X)"
   ]
  },
  {
   "cell_type": "markdown",
   "metadata": {},
   "source": [
    "Encode your dependent variable y such that all three categories ‘Iris-setosa', 'Iris-versicolor', and 'Iris-virginica' correspond to the numeric values 0, 1, and 2, respectively."
   ]
  },
  {
   "cell_type": "code",
   "execution_count": 12,
   "metadata": {},
   "outputs": [],
   "source": [
    "# Assign and encode the dependant variable column to y\n",
    "y = iris.iloc[:,5].map({'Iris-setosa': 0, 'Iris-versicolor': 1, 'Iris-virginica': 2}).values"
   ]
  },
  {
   "cell_type": "markdown",
   "metadata": {},
   "source": [
    "Split the data into a training and test set."
   ]
  },
  {
   "cell_type": "code",
   "execution_count": 13,
   "metadata": {
    "id": "2vdkRridglTj"
   },
   "outputs": [],
   "source": [
    "# Split data into 75% training and 25% test sets\n",
    "X_train, X_test, y_train, y_test = train_test_split(X, \n",
    "                y, test_size=0.25, random_state=0)"
   ]
  },
  {
   "cell_type": "markdown",
   "metadata": {},
   "source": [
    "Use sklearn’s logistic regression function to fit a model and make predictions on the test set."
   ]
  },
  {
   "cell_type": "code",
   "execution_count": 14,
   "metadata": {},
   "outputs": [],
   "source": [
    "# Create a logistic regression model\n",
    "log_reg = LogisticRegression()\n",
    "# Fit a logistic regression model to the training data\n",
    "log_reg.fit(X_train, y_train)\n",
    "# Make predictions on test data\n",
    "y_pred = log_reg.predict(X_test).reshape(-1,1)"
   ]
  },
  {
   "cell_type": "markdown",
   "metadata": {
    "id": "Zljk3RohgaSo"
   },
   "source": [
    "### Measuring Model Performance\n"
   ]
  },
  {
   "cell_type": "markdown",
   "metadata": {
    "id": "WDGphAhv1lqp"
   },
   "source": [
    "Analyse the confusion matrix and provide a prediction, in a comment whether the model is likely to have higher precision, higher recall, or similar precision and recall."
   ]
  },
  {
   "cell_type": "code",
   "execution_count": 15,
   "metadata": {
    "colab": {
     "base_uri": "https://localhost:8080/",
     "height": 34
    },
    "id": "mMl678ve1uSp",
    "outputId": "3158b09b-e898-4273-d21d-b3bbb7e1babf"
   },
   "outputs": [
    {
     "name": "stdout",
     "output_type": "stream",
     "text": [
      "Confusion Matrix: \n",
      "     0   1  2\n",
      "0  13   0  0\n",
      "1   0  15  1\n",
      "2   0   0  9\n"
     ]
    }
   ],
   "source": [
    "# Create a confusion matrix comparing actual and predicted values\n",
    "conf_mat = confusion_matrix(y_test, y_pred)\n",
    "# Convert the confusion matrix into a DataFrame\n",
    "cm_iris = pd.DataFrame(conf_mat)\n",
    "# Display the confusion matrix\n",
    "print('Confusion Matrix: \\n', cm_iris)"
   ]
  },
  {
   "cell_type": "markdown",
   "metadata": {
    "id": "9D2wCVXo2XvP"
   },
   "source": [
    "The model classifies one 'Iris-virginica' as 'Iris-versicolor' and perfectly predicted all the other test samples. Therefore, the model will have less than 100% accuracy; and less than 100% precision and recall for Iris-virginica and Iris-versicolor, respectively. Therefore higher precision for Iris-versicolor, higher recall for Iris-virginica."
   ]
  },
  {
   "cell_type": "markdown",
   "metadata": {},
   "source": [
    "Calculate the accuracy, precision, and recall, and check whether your prediction was right."
   ]
  },
  {
   "cell_type": "code",
   "execution_count": 16,
   "metadata": {
    "colab": {
     "base_uri": "https://localhost:8080/",
     "height": 136
    },
    "id": "Ey1Ro-MYgaSq",
    "outputId": "ebb769ef-dd33-44ba-c85b-c5bd6436ce67"
   },
   "outputs": [
    {
     "name": "stdout",
     "output_type": "stream",
     "text": [
      "Accuracy: 0.9736842105263158\n",
      "\n",
      "Class: Iris-setosa\n",
      "  Precision: 1.0\n",
      "  Recall:    1.0\n",
      "\n",
      "Class: Iris-versicolor\n",
      "  Precision: 1.0\n",
      "  Recall:    0.9375\n",
      "\n",
      "Class: Iris-virginica\n",
      "  Precision: 0.9\n",
      "  Recall:    1.0\n"
     ]
    }
   ],
   "source": [
    "# Determine the proportion of correct predictions\n",
    "acc = accuracy_score(y_test, y_pred)\n",
    "# Display accuracy\n",
    "print(\"Accuracy:\", acc)\n",
    "# Determine the proportion of correct positive predictions for each class\n",
    "prec = precision_score(y_test, y_pred, average=None)\n",
    "# Determine proportion of correct actual positives predictions for each class\n",
    "rec = recall_score(y_test, y_pred, average=None)\n",
    "# # Display precision and recall per class\n",
    "class_labels = ['Iris-setosa', 'Iris-versicolor', 'Iris-virginica']\n",
    "for i, label in enumerate(class_labels):\n",
    "    print(f\"\\nClass: {label}\")\n",
    "    print(f\"  Precision: {prec[i]}\")\n",
    "    print(f\"  Recall:    {rec[i]}\")"
   ]
  },
  {
   "cell_type": "markdown",
   "metadata": {
    "id": "SmpIYpFw85px"
   },
   "source": [
    "Accuracy, precision and recall are closer to 100%, thus the model prediction is okay. It achieved a performance closer to 100%, which is less than that achieved with a model for classifying whether an iris belongs to the ‘Iris-setosa’ class or not."
   ]
  }
 ],
 "metadata": {
  "colab": {
   "provenance": []
  },
  "kernelspec": {
   "display_name": "base",
   "language": "python",
   "name": "python3"
  },
  "language_info": {
   "codemirror_mode": {
    "name": "ipython",
    "version": 3
   },
   "file_extension": ".py",
   "mimetype": "text/x-python",
   "name": "python",
   "nbconvert_exporter": "python",
   "pygments_lexer": "ipython3",
   "version": "3.7.6"
  }
 },
 "nbformat": 4,
 "nbformat_minor": 0
}
