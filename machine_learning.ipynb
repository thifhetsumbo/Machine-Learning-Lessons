{
 "cells": [
  {
   "cell_type": "markdown",
   "metadata": {
    "id": "IBb6nSAY5T4I"
   },
   "source": [
    "# Machine Learning\n",
    "## Compulsory task"
   ]
  },
  {
   "cell_type": "markdown",
   "metadata": {
    "id": "N02Qu9_f1N45"
   },
   "source": [
    "1. For each of the following examples describe at least one possible input and \n",
    "output. Justify your answers:  \n",
    "* 1.1 A self-driving car\n",
    "* 1.2 Netflix recommendation system\n",
    "* 1.3 Signature recognition\n",
    "* 1.4 Medical diagnosis\n"
   ]
  },
  {
   "cell_type": "markdown",
   "metadata": {
    "id": "-8aBqprP3ypo"
   },
   "source": [
    "1. Answer here\n",
    "\n",
    "|      | Input(s)    | Output     |\n",
    "| ---- | ----------- | ---------  |\n",
    "| 1.1  | LiDAR, GPS – LiDAR detects objects, pedestrians, and other vehicles, while GPS determines the car's position on a map to plan the route. | Steering commands, braking decisions - steering commands maintain the correct lane, while braking decisions prevent collisions by stopping or slowing down when necessary. |\n",
    "| 1.2  | User watch history, genre preferences - user watch history helps identify patterns, while genre preferences filter and prioritise recommendations within preferred categories. | A list of recommended movies or TV shows - guides users toward content they are most likely to watch. |\n",
    "| 1.3  | A digital signature image – determine whether the signature matches the authorised user’s signature | Verification result – authenticate legitimate signatures |\n",
    "| 1.4  | Patient symptoms, medical history - patient symptoms provide indicators of possible diseases, while medical history personalises the diagnosis by considering past illnesses, medications, allergies, and family history. | Diagnosed disease - identify possible illnesses based on patient symptoms and medical history |"
   ]
  },
  {
   "cell_type": "markdown",
   "metadata": {
    "id": "l_I2f4C85yNF"
   },
   "source": [
    "\n",
    "2. For each of the following case studies, determine whether it is appropriate to utilise regression or classification machine learning algorithms. Justify your answers:\n",
    "* 2.1 Classifying emails as promotion or social based on their content and metadata. \n",
    "* 2.2 Forecasting the stock price of a company based on historical data and market trends.\n",
    "* 2.3 Sorting images of animals into different species based on their visual features.\n",
    "* 2.4 Predicting the likelihood of a patient having a particular disease based on medical history and diagnostic test results. "
   ]
  },
  {
   "cell_type": "markdown",
   "metadata": {
    "id": "WgMUsqQr6qFU"
   },
   "source": [
    "2. Answer here\n",
    "* 2.1 Classification – the task involves assigning discrete labels (promotional or social) rather than predicting continuous values.\n",
    "* 2.2 Regression - the output is a continuous variable (stock price) predicted based on various input features (past stock prices, economic indicators, or market trends).\n",
    "* 2.3 Classification – the task involves categorising images into predefined classes (species of animals).\n",
    "* 2.4 Classification – the goal is to classify patients into different disease categories based on whether they have a disease or not (binary classification)."
   ]
  },
  {
   "cell_type": "markdown",
   "metadata": {
    "id": "b6f8UETG64hH"
   },
   "source": [
    "3. For each of the following real-world problems, determine whether it is appropriate to utilise a supervised or unsupervised machine learning algorithm. Justify your answers:\n",
    "* 3.1 Detecting anomalies in a manufacturing process using sensor data without prior knowledge of specific anomaly patterns. \n",
    "* 3.2 Predicting customer lifetime value based on historical transaction data and customer demographics. \n",
    "* 3.3 Segmenting customer demographics based on their purchase history, browsing behaviour, and preferences. \n",
    "* 3.4 Analysing social media posts to categorise them into different themes. \n"
   ]
  },
  {
   "cell_type": "markdown",
   "metadata": {
    "id": "W6dTYBvd675O"
   },
   "source": [
    "3. Answer here\n",
    "* 3.1 Unsupervised Learning – since anomalies do not have predefined labels, the algorithm must detect deviations from normal patterns on its own.\n",
    "* 3.2 Supervised Learning – the task involves predicting a continuous value (customer lifetime value) using labelled past data, making it a supervised learning problem, which is most effective when there is a labelled dataset.\n",
    "* 3.3 Unsupervised Learning – clustering techniques can be used to identify customer segments without predefined labels and discover hidden patterns.\n",
    "* 3.4 Supervised Learning – there is available labelled data for different themes, thus it can predict discrete categories for new posts accordingly."
   ]
  },
  {
   "cell_type": "markdown",
   "metadata": {
    "id": "bqsun96o64xe"
   },
   "source": [
    "4. \n",
    "For each of the following real-world problems, determine whether it is appropriate to utilise semi-supervised machine learning algorithms. Justify your answers:\n",
    "* 4.1 Predicting fraudulent financial transactions using a dataset where most transactions are labelled as fraudulent or legitimate.\n",
    "* 4.2 Analysing customer satisfaction surveys where only a small portion of the data is labelled with satisfaction ratings.\n",
    "*4.3 Identifying spam emails in a dataset where the majority of emails are labelled.\n",
    "* 4.4 Predicting the probability of default for credit card applicants based on their complete financial and credit-related information.\n"
   ]
  },
  {
   "cell_type": "markdown",
   "metadata": {
    "id": "aTWugZ6q68GF"
   },
   "source": [
    "4. Answer here\n",
    "* 4.1 Inappropriate – since most transactions are already labelled, meaning there is availability of sufficient labelled data, a fully supervised approach is more appropriate.\n",
    "* 4.2 Appropriate – there is limited labelled data, thus semi-supervised learning can utilise the small set of labelled data to make predictions on the larger unlabelled portion.\n",
    "* 4.3 Inappropriate – there is sufficient labelled data, thus a fully supervised learning approach is more effective since most emails have labels.\n",
    "* 4.4 Inappropriate – there is sufficient labelled data, therefore this is a standard supervised learning problem, also because financial institutions typically have labelled datasets for defaults and non-defaults."
   ]
  }
 ],
 "metadata": {
  "colab": {
   "provenance": []
  },
  "kernelspec": {
   "display_name": "Python 3",
   "name": "python3"
  },
  "language_info": {
   "name": "python"
  }
 },
 "nbformat": 4,
 "nbformat_minor": 0
}
